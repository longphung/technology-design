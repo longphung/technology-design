{
 "cells": [
  {
   "cell_type": "code",
   "execution_count": 2,
   "metadata": {
    "collapsed": true,
    "ExecuteTime": {
     "end_time": "2023-05-11T09:59:10.882947Z",
     "start_time": "2023-05-11T09:59:05.389620Z"
    }
   },
   "outputs": [
    {
     "name": "stderr",
     "output_type": "stream",
     "text": [
      "Using the latest cached version of the module from /Users/phung/.cache/huggingface/modules/datasets_modules/datasets/squad_v2/09187c73c1b837c95d9a249cd97c2c3f1cebada06efe667b4427714b27639b1d (last modified on Thu May  4 21:06:36 2023) since it couldn't be found locally at squad_v2., or remotely on the Hugging Face Hub.\n",
      "Found cached dataset squad_v2 (/Users/phung/.cache/huggingface/datasets/squad_v2/squad_v2/2.0.0/09187c73c1b837c95d9a249cd97c2c3f1cebada06efe667b4427714b27639b1d)\n"
     ]
    },
    {
     "data": {
      "text/plain": "  0%|          | 0/2 [00:00<?, ?it/s]",
      "application/vnd.jupyter.widget-view+json": {
       "version_major": 2,
       "version_minor": 0,
       "model_id": "6f2b88bc6d51414799f851e82089b276"
      }
     },
     "metadata": {},
     "output_type": "display_data"
    }
   ],
   "source": [
    "from datasets import load_dataset\n",
    "import csv\n",
    "\n",
    "squad_dataset = load_dataset('squad_v2')\n",
    "squad_questions =  [x['question'] for x in squad_dataset['train']] + [x['question'] for x in squad_dataset['validation']]\n",
    "\n",
    "with open('questions_answers_swinburne_monash.csv') as csv_file:\n",
    "    with open('out-of-scope-dataset.csv', 'w', newline='') as new_csv_file:\n",
    "        fieldnames = ['question', 'label']\n",
    "        writer = csv.DictWriter(new_csv_file, fieldnames=fieldnames)\n",
    "        writer.writeheader()\n",
    "\n",
    "        reader = csv.DictReader(csv_file)\n",
    "        for row in reader:\n",
    "            question = row['question']\n",
    "            label = 0\n",
    "            writer.writerow({'question': question, 'label': label})\n",
    "        for question in squad_questions:\n",
    "            label = 1\n",
    "            writer.writerow({'question': question, 'label': label})\n"
   ]
  },
  {
   "cell_type": "code",
   "execution_count": null,
   "outputs": [],
   "source": [
    "\n",
    "from transformers import AutoTokenizer, DistilBertForSequenceClassification\n",
    "\n",
    "distilbert_tokenizer = AutoTokenizer.from_pretrained('distilbert-base-uncased')\n",
    "distilbert_model = DistilBertForSequenceClassification.from_pretrained('distilbert-base-uncased', num_labels=2)\n",
    "\n",
    "def tokenize(batch):\n",
    "    return distilbert_tokenizer(batch['question'], padding=True, truncation=True)\n",
    "\n"
   ],
   "metadata": {
    "collapsed": false
   }
  }
 ],
 "metadata": {
  "kernelspec": {
   "display_name": "Python 3",
   "language": "python",
   "name": "python3"
  },
  "language_info": {
   "codemirror_mode": {
    "name": "ipython",
    "version": 2
   },
   "file_extension": ".py",
   "mimetype": "text/x-python",
   "name": "python",
   "nbconvert_exporter": "python",
   "pygments_lexer": "ipython2",
   "version": "2.7.6"
  }
 },
 "nbformat": 4,
 "nbformat_minor": 0
}
